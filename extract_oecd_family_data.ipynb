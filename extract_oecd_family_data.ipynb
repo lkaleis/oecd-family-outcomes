{
 "cells": [
  {
   "cell_type": "code",
   "execution_count": 1,
   "id": "8a9b54f7",
   "metadata": {},
   "outputs": [],
   "source": [
    "import os\n",
    "import requests\n",
    "import pandas as pd\n",
    "import psycopg2\n",
    "from sqlalchemy import create_engine\n",
    "from bs4 import BeautifulSoup\n",
    "from urllib.parse import urljoin"
   ]
  },
  {
   "cell_type": "code",
   "execution_count": 2,
   "id": "5a1142c6",
   "metadata": {},
   "outputs": [],
   "source": [
    "# OECD Family Database URL\n",
    "BASE_URL = \"https://www.oecd.org/en/data/datasets/oecd-family-database.html\"\n",
    "DOWNLOAD_FOLDER = \"oecd_family_data\"\n",
    "os.makedirs(DOWNLOAD_FOLDER, exist_ok=True)"
   ]
  },
  {
   "cell_type": "code",
   "execution_count": 3,
   "id": "150ac433",
   "metadata": {},
   "outputs": [],
   "source": [
    "# Get the webpage content\n",
    "response = requests.get(BASE_URL)\n",
    "soup = BeautifulSoup(response.text, \"html.parser\")"
   ]
  },
  {
   "cell_type": "code",
   "execution_count": 4,
   "id": "6cd7da93",
   "metadata": {},
   "outputs": [
    {
     "name": "stdout",
     "output_type": "stream",
     "text": [
      "No XLSX files found.\n"
     ]
    },
    {
     "ename": "IndexError",
     "evalue": "list index out of range",
     "output_type": "error",
     "traceback": [
      "\u001b[0;31m---------------------------------------------------------------------------\u001b[0m",
      "\u001b[0;31mIndexError\u001b[0m                                Traceback (most recent call last)",
      "Cell \u001b[0;32mIn[4], line 7\u001b[0m\n\u001b[1;32m      4\u001b[0m     \u001b[38;5;28mprint\u001b[39m(\u001b[38;5;124m\"\u001b[39m\u001b[38;5;124mNo XLSX files found.\u001b[39m\u001b[38;5;124m\"\u001b[39m)\n\u001b[1;32m      5\u001b[0m     exit()\n\u001b[0;32m----> 7\u001b[0m xlsx_url \u001b[38;5;241m=\u001b[39m \u001b[43mlinks\u001b[49m\u001b[43m[\u001b[49m\u001b[38;5;241;43m1\u001b[39;49m\u001b[43m]\u001b[49m  \u001b[38;5;66;03m# Download the first file (Modify to iterate through all)\u001b[39;00m\n\u001b[1;32m      8\u001b[0m file_name \u001b[38;5;241m=\u001b[39m os\u001b[38;5;241m.\u001b[39mpath\u001b[38;5;241m.\u001b[39mjoin(DOWNLOAD_FOLDER, xlsx_url\u001b[38;5;241m.\u001b[39msplit(\u001b[38;5;124m\"\u001b[39m\u001b[38;5;124m/\u001b[39m\u001b[38;5;124m\"\u001b[39m)[\u001b[38;5;241m-\u001b[39m\u001b[38;5;241m1\u001b[39m])\n\u001b[1;32m     10\u001b[0m \u001b[38;5;28mprint\u001b[39m(\u001b[38;5;124mf\u001b[39m\u001b[38;5;124m\"\u001b[39m\u001b[38;5;124mDownloading: \u001b[39m\u001b[38;5;132;01m{\u001b[39;00mfile_name\u001b[38;5;132;01m}\u001b[39;00m\u001b[38;5;124m\"\u001b[39m)\n",
      "\u001b[0;31mIndexError\u001b[0m: list index out of range"
     ]
    }
   ],
   "source": [
    "# Find and download the first XLSX file (Modify to download all if needed)\n",
    "links = [urljoin(BASE_URL, link[\"href\"]) for link in soup.find_all(\"a\", href=True) if link[\"href\"].endswith(\".xlsx\")]\n",
    "if not links:\n",
    "    print(\"No XLSX files found.\")\n",
    "    exit()\n",
    "\n",
    "xlsx_url = links[1]  # Download the first file (Modify to iterate through all)\n",
    "file_name = os.path.join(DOWNLOAD_FOLDER, xlsx_url.split(\"/\")[-1])\n",
    "\n",
    "print(f\"Downloading: {file_name}\")\n",
    "file_response = requests.get(xlsx_url)\n",
    "with open(file_name, \"wb\") as file:\n",
    "    file.write(file_response.content)"
   ]
  },
  {
   "cell_type": "code",
   "execution_count": null,
   "id": "5fbcfda4",
   "metadata": {},
   "outputs": [],
   "source": []
  }
 ],
 "metadata": {
  "kernelspec": {
   "display_name": "Python (myenv)",
   "language": "python",
   "name": "myenv"
  },
  "language_info": {
   "codemirror_mode": {
    "name": "ipython",
    "version": 3
   },
   "file_extension": ".py",
   "mimetype": "text/x-python",
   "name": "python",
   "nbconvert_exporter": "python",
   "pygments_lexer": "ipython3",
   "version": "3.12.3"
  }
 },
 "nbformat": 4,
 "nbformat_minor": 5
}
